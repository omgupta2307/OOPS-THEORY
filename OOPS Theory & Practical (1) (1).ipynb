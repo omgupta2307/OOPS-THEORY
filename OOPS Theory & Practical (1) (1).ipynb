{
 "cells": [
  {
   "cell_type": "code",
   "execution_count": null,
   "id": "7c9923e4-e787-46b4-9dc1-3fd362a4b632",
   "metadata": {},
   "outputs": [],
   "source": [
    "                                                 Python OOPs Questions\n",
    "                                              ---------------------------\n",
    "                                                       THEORY\n",
    "                                            __________________________________\n",
    "\n",
    "Q1. What is Object-Oriented Programming (OOP)?\n",
    "ANS:- Oject Oriented Programming is a way of writing code by using object.\n",
    "An object is like a mini program - it has data (called attributes) and action (called methods).\n",
    "\n",
    "Q2. What is a class in OOP?\n",
    "ANS:- A class in Object-Oriented Programming is a blue print or template used to create objects.\n",
    "\n",
    "Q3.What is an object in OOP?\n",
    "ANS:- An object is like a mini program - it has data (called attributes) and action (called methods).\n",
    "\n",
    "Q4.What is the difference between abstraction and encapsulation?\n",
    "ANS:- Abstraction - Hiding unnecessary details, showing only what's needed.\n",
    "      Encapsulation - Hiding data inside the class to protect it.\n",
    "\n",
    "Q5.What are dunder methods in Python?\n",
    "ANS:- Dunder methods (short for \"double underscore\" methods) are special built in methods in python.\n",
    " They start and end with two underscores:\n",
    "\n",
    "Q6. Explain the concept of inheritance in OOP?\n",
    "ANS:-Inheritance refers to the where a child class receives a properties and behavivors of a parent class .\n",
    "\n",
    "Q7.What is polymorphism in OOP?\n",
    "ANS:-polymorphism allows same method name to do different things depending on the object.\n",
    "\n",
    "Q8.How is encapsulation achieved in Python?\n",
    "ANS:- Encapsulation in python means hiding data inside a class and only allowing acess \n",
    "      through methods.\n",
    "\n",
    "Q9.What is a constructor in Python?\n",
    "ANS:- A constructor is a special method in python that automattically runs when you create an object from a class .\n",
    "      In python , the constructor is called __int__()\n",
    "\n",
    "Q10. What are class and static methods in Python?\n",
    "ANS:- Class Method - A class method is method that works with the class, not with a specific object.\n",
    "     It use @classmethod and take cls as he first level argument .\n",
    "     Static Method - A static method is just a normal function inside a class.\n",
    "    It uses @staticmethod and takes no self or cls.\n",
    "\n",
    "Q11. What is method overloading in Python?\n",
    "ANS: Methods overloading means defining multiple methods with the same name but different \n",
    "     arguments.\n",
    "\n",
    "Q12.What is method overriding in OOP?\n",
    "ANS:- Method overriding means the child class has a method with the same name as the parent class ,\n",
    "      but it does something different .\n",
    "\n",
    "13.What is a property decorator in Python+\n",
    "ANS:- It allows method to be accessed as attribute.\n",
    "\n",
    "Q14.Why is polymorphism important in OOP?\n",
    "ANS:- Polymorphism allows the same method name to work differently depending on the object .\n",
    "   It is usefule because:-\n",
    "    1 . Clean and reusable code\n",
    "    2. Flexiblity\n",
    "    3. Easy to extend\n",
    "\n",
    "Q15.What is an abstract class in Python?\n",
    "ANS:- AN abstract class is a class that cannot be used directly to create objects.\n",
    "      It is used as a base class and contains abstract methods that must be defined in child classes. \n",
    "\n",
    "Q16.What are the advantages of OOP?\n",
    "ANS:- Advantage of OOP:-\n",
    " 1. MODULARITY\n",
    " 2.REUSABILITY\n",
    " 3.DATA PROTECTION\n",
    " 4.POLYMORPHISM\n",
    " 5.INHERITANCE\n",
    " 6.EAISER TO MAINTAIN AND UPDATE\n",
    " 7.REAL WORLD MAPPING\n",
    "\n",
    "Q17.What is the difference between a class variable and an instance variable?\n",
    "ANS:-Class variables are shared among all instances (objects) of a class, \n",
    "     while instance variables are unique to each individual instance.\n",
    "\n",
    "Q18.What is multiple inheritance in Python?\n",
    "ANS:-Multiple inheritance means a class can inherit from more than one parent class.\n",
    "\n",
    "Q19.Explain the purpose of ‘’__str__’ and ‘__repr__’ ‘ methods in Python?\n",
    "ANS:-In Python, __str__ and __repr__ are special methods (dunder methods) that define how an object\n",
    "     is represented as a string. They serve different purpose.\n",
    "\n",
    "Q20.What is the significance of the ‘super()’ function in Python?\n",
    "ANS:- suppr() is used in a child class to call a method from its parents class .\n",
    "\n",
    "Q21.What is the significance of the __del__ method in Python?\n",
    "ANS:- __delete__ is a special method used with descriptors in python .\n",
    "        It is called when you delete an attribute using del1 keyword. \n",
    "\n",
    "Q22.What is the difference between @staticmethod and @classmethod in Python?\n",
    "ANS:- Main difference between @staticmethod and @classmethod in Python are:-\n",
    "      @classmethod work with class data (user cls)\n",
    "      @staticmethod a normal function inside a class (no cls or self)\n",
    "\n",
    "Q23.How does polymorphism work in Python with inheritance?\n",
    "ANS:- Polymorphism with inheritance means: A child class gives a new version of method from the parent,\n",
    "      and python called calls the correct version based on the object.\n",
    "\n",
    "Q24.What is method chaining in Python OOP?\n",
    "ANS:- Method chaining lets you call multiple methods in one line by returning s e l f from each method.\n",
    "\n",
    "Q25. What is the purpose of the __call__ method in Python?\n",
    "ANS:- The __call__ method allows an object to be called like a function.\n",
    "      if a class has a __call__() method,then you use the object like a function - with parentheses().\n",
    "\n",
    "\n",
    "                                       Practical Questions\n",
    "                                  _____________________________\n",
    "\n",
    "Q1. Create a parent class Animal with a method speak() that prints a generic message. Create a child class Dog\n",
    "that overrides the speak() method to print \"Bark!\""
   ]
  },
  {
   "cell_type": "code",
   "execution_count": 1,
   "id": "e068003c-4fb9-4e6b-9631-8379e077768c",
   "metadata": {},
   "outputs": [],
   "source": [
    "# Parent class\n",
    "class Animal:\n",
    "    def speak(self):\n",
    "        print(\"The animal makes a sound.\")\n",
    "\n",
    "# Child class\n",
    "class Dog(Animal):\n",
    "    def speak(self):\n",
    "        print(\"Bark!\")"
   ]
  },
  {
   "cell_type": "code",
   "execution_count": 2,
   "id": "2efa8f9c-1d40-4a0d-96a1-96afb661a08a",
   "metadata": {},
   "outputs": [
    {
     "name": "stdout",
     "output_type": "stream",
     "text": [
      "The animal makes a sound.\n"
     ]
    }
   ],
   "source": [
    "# Testing the classes\n",
    "generic_animal = Animal()\n",
    "generic_animal.speak() "
   ]
  },
  {
   "cell_type": "code",
   "execution_count": 3,
   "id": "cd5085e8-0095-4d00-a8d7-cf17bf62ec04",
   "metadata": {},
   "outputs": [
    {
     "name": "stdout",
     "output_type": "stream",
     "text": [
      "Bark!\n"
     ]
    }
   ],
   "source": [
    "dog = Dog()\n",
    "dog.speak() "
   ]
  },
  {
   "cell_type": "code",
   "execution_count": null,
   "id": "4130f479-92a2-422b-bb9e-e1d9011b6f96",
   "metadata": {},
   "outputs": [],
   "source": [
    "Q2. Write a program to create an abstract class Shape with a method area(). Derive classes Circle and Rectangle\n",
    "from it and implement the area() method in both?"
   ]
  },
  {
   "cell_type": "code",
   "execution_count": 1,
   "id": "d24658e2-59d6-4de9-8f30-37a407a944e3",
   "metadata": {},
   "outputs": [],
   "source": [
    "from abc import ABC, abstractmethod\n",
    "import math\n",
    "\n",
    "# Abstract class\n",
    "class Shape(ABC):\n",
    "    @abstractmethod\n",
    "    def area(self):\n",
    "        pass\n",
    "\n",
    "# Derived class - Circle\n",
    "class Circle(Shape):\n",
    "    def __init__(self, radius):\n",
    "        self.radius = radius\n",
    "\n",
    "    def area(self):\n",
    "        return math.pi * self.radius * self.radius\n",
    "\n",
    "# Derived class - Rectangle\n",
    "class Rectangle(Shape):\n",
    "    def __init__(self, length, width):\n",
    "        self.length = length\n",
    "        self.width = width\n",
    "\n",
    "    def area(self):\n",
    "        return self.length * self.width"
   ]
  },
  {
   "cell_type": "code",
   "execution_count": 2,
   "id": "7b191499-8fc2-41b6-8dd0-0bc5c7c850f2",
   "metadata": {},
   "outputs": [],
   "source": [
    "circle = Circle(5)\n",
    "rectangle = Rectangle(4, 6)"
   ]
  },
  {
   "cell_type": "code",
   "execution_count": 3,
   "id": "2a2f7f18-cef8-469a-86b0-499ee0f5acd4",
   "metadata": {},
   "outputs": [
    {
     "name": "stdout",
     "output_type": "stream",
     "text": [
      "Area of Circle: 78.53981633974483\n",
      "Area of Rectangle: 24\n"
     ]
    }
   ],
   "source": [
    "print(\"Area of Circle:\", circle.area())\n",
    "print(\"Area of Rectangle:\", rectangle.area())"
   ]
  },
  {
   "cell_type": "code",
   "execution_count": null,
   "id": "d335a279-59ac-4ea8-b355-407fa4b4e158",
   "metadata": {},
   "outputs": [],
   "source": [
    "Q3.Implement a multi-level inheritance scenario where a class Vehicle has an attribute type. Derive a class Car\n",
    "and further derive a class ElectricCar that adds a battery attribute."
   ]
  },
  {
   "cell_type": "code",
   "execution_count": 4,
   "id": "6804c883-d0a6-4af0-a6a4-3266ff98ad0a",
   "metadata": {},
   "outputs": [],
   "source": [
    "# Base class\n",
    "class Vehicle:\n",
    "    def __init__(self, type):\n",
    "        self.type = type\n",
    "\n",
    "    def show_type(self):\n",
    "        print(f\"Vehicle type: {self.type}\")\n",
    "\n",
    "# Derived class\n",
    "class Car(Vehicle):\n",
    "    def __init__(self, type, brand):\n",
    "        super().__init__(type)\n",
    "        self.brand = brand\n",
    "\n",
    "    def show_brand(self):\n",
    "        print(f\"Car brand: {self.brand}\")\n",
    "\n",
    "# Further derived class\n",
    "class ElectricCar(Car):\n",
    "    def __init__(self, type, brand, battery):\n",
    "        super().__init__(type, brand)\n",
    "        self.battery = battery\n",
    "\n",
    "    def show_details(self):\n",
    "        self.show_type()\n",
    "        self.show_brand()\n",
    "        print(f\"Battery capacity: {self.battery} kWh\")"
   ]
  },
  {
   "cell_type": "code",
   "execution_count": 5,
   "id": "dba4f65c-dd14-4e2b-88cc-e8c1b74c2f9f",
   "metadata": {},
   "outputs": [
    {
     "name": "stdout",
     "output_type": "stream",
     "text": [
      "Vehicle type: Electric Vehicle\n",
      "Car brand: Tesla\n",
      "Battery capacity: 75 kWh\n"
     ]
    }
   ],
   "source": [
    "e_car = ElectricCar(\"Electric Vehicle\", \"Tesla\", 75)\n",
    "e_car.show_details()"
   ]
  },
  {
   "cell_type": "code",
   "execution_count": null,
   "id": "bd60e876-2edc-454d-a469-edfce3ff0eb7",
   "metadata": {},
   "outputs": [],
   "source": [
    "Q4. Demonstrate polymorphism by creating a base class Bird with a method fly(). Create two derived classes\n",
    "Sparrow and Penguin that override the fly() method."
   ]
  },
  {
   "cell_type": "code",
   "execution_count": 6,
   "id": "c245afaa-84a5-43bc-b3fa-eb5176aaca9d",
   "metadata": {},
   "outputs": [
    {
     "name": "stdout",
     "output_type": "stream",
     "text": [
      "Sparrow flies high in the sky!\n",
      "Penguins can't fly, but they swim well!\n"
     ]
    }
   ],
   "source": [
    "# Base class\n",
    "class Bird:\n",
    "    def fly(self):\n",
    "        print(\"Bird is flying\")\n",
    "\n",
    "# Derived class\n",
    "class Sparrow(Bird):\n",
    "    def fly(self):\n",
    "        print(\"Sparrow flies high in the sky!\")\n",
    "\n",
    "# Derived class\n",
    "class Penguin(Bird):\n",
    "    def fly(self):\n",
    "        print(\"Penguins can't fly, but they swim well!\")\n",
    "\n",
    "# Polymorphism in action\n",
    "def flying_test(bird):\n",
    "    bird.fly()\n",
    "\n",
    "# Create objects\n",
    "sparrow = Sparrow()\n",
    "penguin = Penguin()\n",
    "\n",
    "# Test polymorphism\n",
    "flying_test(sparrow)  # Output: Sparrow flies high in the sky!\n",
    "flying_test(penguin)  # Output: Penguins can't fly, but they swim well!"
   ]
  },
  {
   "cell_type": "code",
   "execution_count": null,
   "id": "50818e57-ede0-4322-90a5-90636dc9fb29",
   "metadata": {},
   "outputs": [],
   "source": [
    "Q5. Write a program to demonstrate encapsulation by creating a class BankAccount with private attributes\n",
    "balance and methods to deposit, withdraw, and check balance."
   ]
  },
  {
   "cell_type": "code",
   "execution_count": 7,
   "id": "4554dbde-0aa6-47a0-b9c5-7c35f70c7e50",
   "metadata": {},
   "outputs": [
    {
     "name": "stdout",
     "output_type": "stream",
     "text": [
      "Current Balance: ₹1000\n",
      "Deposited: ₹500\n",
      "Withdrew: ₹300\n",
      "Current Balance: ₹1200\n"
     ]
    }
   ],
   "source": [
    "class BankAccount:\n",
    "    def __init__(self, initial_balance):\n",
    "        self.__balance = initial_balance  # Private attribute\n",
    "\n",
    "    # Method to deposit money\n",
    "    def deposit(self, amount):\n",
    "        if amount > 0:\n",
    "            self.__balance += amount\n",
    "            print(f\"Deposited: ₹{amount}\")\n",
    "        else:\n",
    "            print(\"Deposit amount must be positive\")\n",
    "\n",
    "    # Method to withdraw money\n",
    "    def withdraw(self, amount):\n",
    "        if 0 < amount <= self.__balance:\n",
    "            self.__balance -= amount\n",
    "            print(f\"Withdrew: ₹{amount}\")\n",
    "        else:\n",
    "            print(\"Insufficient balance or invalid amount\")\n",
    "\n",
    "    # Method to check balance\n",
    "    def check_balance(self):\n",
    "        print(f\"Current Balance: ₹{self.__balance}\")\n",
    "\n",
    "# Testing the class\n",
    "account = BankAccount(1000)\n",
    "account.check_balance()\n",
    "account.deposit(500)\n",
    "account.withdraw(300)\n",
    "account.check_balance()"
   ]
  },
  {
   "cell_type": "code",
   "execution_count": null,
   "id": "9eedf3aa-cf17-48d2-a118-6a3fe29716a7",
   "metadata": {},
   "outputs": [],
   "source": [
    "Q6. Demonstrate runtime polymorphism using a method play() in a base class Instrument. Derive classes Guitar\n",
    "and Piano that implement their own version of play()."
   ]
  },
  {
   "cell_type": "code",
   "execution_count": 8,
   "id": "7d53ee75-e503-431b-9a2d-72a2b182d604",
   "metadata": {},
   "outputs": [
    {
     "name": "stdout",
     "output_type": "stream",
     "text": [
      "Strumming the guitar\n",
      "Playing the piano\n"
     ]
    }
   ],
   "source": [
    "class Instrument:\n",
    "    def play(self):\n",
    "        print(\"Playing an instrument\")\n",
    "\n",
    "# Derived class - Guitar\n",
    "class Guitar(Instrument):\n",
    "    def play(self):\n",
    "        print(\"Strumming the guitar\")\n",
    "\n",
    "# Derived class - Piano\n",
    "class Piano(Instrument):\n",
    "    def play(self):\n",
    "        print(\"Playing the piano\")\n",
    "\n",
    "# Function that demonstrates runtime polymorphism\n",
    "def start_playing(instrument):\n",
    "    instrument.play()\n",
    "\n",
    "# Creating objects\n",
    "guitar = Guitar()\n",
    "piano = Piano()\n",
    "\n",
    "# Runtime polymorphism in action\n",
    "start_playing(guitar)  # Output: Strumming the guitar\n",
    "start_playing(piano)   # Output: Playing the piano"
   ]
  },
  {
   "cell_type": "code",
   "execution_count": null,
   "id": "6fc81ad9-997f-4388-819c-f5157ecd628b",
   "metadata": {},
   "outputs": [],
   "source": [
    "Q7.Create a class MathOperations with a class method add_numbers() to add two numbers and a static\n",
    "method subtract_numbers() to subtract two numbers."
   ]
  },
  {
   "cell_type": "code",
   "execution_count": 9,
   "id": "5ff70b70-653e-46b1-9daa-c5550122372b",
   "metadata": {},
   "outputs": [
    {
     "name": "stdout",
     "output_type": "stream",
     "text": [
      "Sum: 15\n",
      "Difference: 5\n"
     ]
    }
   ],
   "source": [
    "class MathOperations:\n",
    "    # Class method\n",
    "    @classmethod\n",
    "    def add_numbers(cls, a, b):\n",
    "        return a + b\n",
    "\n",
    "    # Static method\n",
    "    @staticmethod\n",
    "    def subtract_numbers(a, b):\n",
    "        return a - b\n",
    "\n",
    "# Using class method\n",
    "sum_result = MathOperations.add_numbers(10, 5)\n",
    "print(\"Sum:\", sum_result)\n",
    "\n",
    "# Using static method\n",
    "difference_result = MathOperations.subtract_numbers(10, 5)\n",
    "print(\"Difference:\", difference_result)"
   ]
  },
  {
   "cell_type": "code",
   "execution_count": null,
   "id": "ab8db7aa-f339-415e-b150-0cc16e4ff0c7",
   "metadata": {},
   "outputs": [],
   "source": [
    "Q8. Implement a class Person with a class method to count the total number of persons created."
   ]
  },
  {
   "cell_type": "code",
   "execution_count": 10,
   "id": "7c5e52e1-6a26-4d86-a58e-e59ddedfb09d",
   "metadata": {},
   "outputs": [
    {
     "name": "stdout",
     "output_type": "stream",
     "text": [
      "Total persons created: 3\n"
     ]
    }
   ],
   "source": [
    "class Person:\n",
    "    count = 0  # Class variable to keep track of number of persons\n",
    "\n",
    "    def __init__(self, name):\n",
    "        self.name = name\n",
    "        Person.count += 1  # Increment count when a new object is created\n",
    "\n",
    "    @classmethod\n",
    "    def total_persons(cls):\n",
    "        return cls.count\n",
    "\n",
    "# Creating person objects\n",
    "p1 = Person(\"Alice\")\n",
    "p2 = Person(\"Bob\")\n",
    "p3 = Person(\"Charlie\")\n",
    "\n",
    "# Getting total number of persons\n",
    "print(\"Total persons created:\", Person.total_persons())"
   ]
  },
  {
   "cell_type": "code",
   "execution_count": null,
   "id": "fb5ecc62-15ee-4a55-8a37-6d2d05378456",
   "metadata": {},
   "outputs": [],
   "source": [
    "Q9. Write a class Fraction with attributes numerator and denominator. Override the str method to display the\n",
    "fraction as \"numerator/denominator\"."
   ]
  },
  {
   "cell_type": "code",
   "execution_count": 11,
   "id": "1edab754-b434-4494-a858-1b2ba1d7b08b",
   "metadata": {},
   "outputs": [
    {
     "name": "stdout",
     "output_type": "stream",
     "text": [
      "3/4\n",
      "5/8\n"
     ]
    }
   ],
   "source": [
    "class Fraction:\n",
    "    def __init__(self, numerator, denominator):\n",
    "        self.numerator = numerator\n",
    "        self.denominator = denominator\n",
    "\n",
    "    def __str__(self):\n",
    "        return f\"{self.numerator}/{self.denominator}\"\n",
    "\n",
    "# Creating objects\n",
    "f1 = Fraction(3, 4)\n",
    "f2 = Fraction(5, 8)\n",
    "\n",
    "# Printing objects\n",
    "print(f1)  # Output: 3/4\n",
    "print(f2)  # Output: 5/8"
   ]
  },
  {
   "cell_type": "code",
   "execution_count": null,
   "id": "5b3dfb75-b8d0-46fd-b522-67ac2e5a4933",
   "metadata": {},
   "outputs": [],
   "source": [
    "Q10.Demonstrate operator overloading by creating a class Vector and overriding the add method to add two\n",
    "vectors."
   ]
  },
  {
   "cell_type": "code",
   "execution_count": 12,
   "id": "7e2d5207-22f3-4942-addb-3e958987258d",
   "metadata": {},
   "outputs": [
    {
     "name": "stdout",
     "output_type": "stream",
     "text": [
      "v1: Vector(2, 3)\n",
      "v2: Vector(4, 5)\n",
      "v1 + v2 = Vector(6, 8)\n"
     ]
    }
   ],
   "source": [
    "class Vector:\n",
    "    def __init__(self, x, y):\n",
    "        self.x = x\n",
    "        self.y = y\n",
    "\n",
    "    # Overload the + operator\n",
    "    def __add__(self, other):\n",
    "        return Vector(self.x + other.x, self.y + other.y)\n",
    "\n",
    "    # For printing the vector\n",
    "    def __str__(self):\n",
    "        return f\"Vector({self.x}, {self.y})\"\n",
    "\n",
    "# Create two vectors\n",
    "v1 = Vector(2, 3)\n",
    "v2 = Vector(4, 5)\n",
    "\n",
    "# Add the vectors using overloaded +\n",
    "v3 = v1 + v2\n",
    "\n",
    "# Print the result\n",
    "print(\"v1:\", v1)\n",
    "print(\"v2:\", v2)\n",
    "print(\"v1 + v2 =\", v3)"
   ]
  },
  {
   "cell_type": "code",
   "execution_count": null,
   "id": "9d32492a-edff-42f8-b9fc-9f59d693aff4",
   "metadata": {},
   "outputs": [],
   "source": [
    "Q11. Create a class Person with attributes name and age. Add a method greet() that prints \"Hello, my name is\n",
    "{name} and I am {age} years old."
   ]
  },
  {
   "cell_type": "code",
   "execution_count": 13,
   "id": "42efaeae-4c6f-4930-89fa-11969e3c455d",
   "metadata": {},
   "outputs": [
    {
     "name": "stdout",
     "output_type": "stream",
     "text": [
      "Hello, my name is Alice and I am 25 years old.\n"
     ]
    }
   ],
   "source": [
    "\n",
    "class Person:\n",
    "    def __init__(self, name, age):\n",
    "        self.name = name\n",
    "        self.age = age\n",
    "\n",
    "    def greet(self):\n",
    "        print(f\"Hello, my name is {self.name} and I am {self.age} years old.\")\n",
    "\n",
    "# Create an object of Person\n",
    "p1 = Person(\"Alice\", 25)\n",
    "\n",
    "# Call the greet method\n",
    "p1.greet()"
   ]
  },
  {
   "cell_type": "code",
   "execution_count": null,
   "id": "014e5a78-f06e-4a41-a8cb-a5ad084ddf42",
   "metadata": {},
   "outputs": [],
   "source": [
    "Q12. Implement a class Student with attributes name and grades. Create a method average_grade() to compute\n",
    "the average of the grades."
   ]
  },
  {
   "cell_type": "code",
   "execution_count": 14,
   "id": "1034a117-f48b-4a39-aa83-2bd6016563cc",
   "metadata": {},
   "outputs": [
    {
     "name": "stdout",
     "output_type": "stream",
     "text": [
      "John's average grade is: 86.25\n"
     ]
    }
   ],
   "source": [
    "class Student:\n",
    "    def __init__(self, name, grades):\n",
    "        self.name = name\n",
    "        self.grades = grades  # grades should be a list of numbers\n",
    "\n",
    "    def average_grade(self):\n",
    "        if len(self.grades) == 0:\n",
    "            return 0\n",
    "        return sum(self.grades) / len(self.grades)\n",
    "\n",
    "# Create a student object\n",
    "s1 = Student(\"John\", [85, 90, 78, 92])\n",
    "\n",
    "# Display average grade\n",
    "print(f\"{s1.name}'s average grade is: {s1.average_grade():.2f}\")"
   ]
  },
  {
   "cell_type": "code",
   "execution_count": null,
   "id": "03b2a1a1-17b9-496f-94e1-13f8a974291d",
   "metadata": {},
   "outputs": [],
   "source": [
    "Q13.Create a class Rectangle with methods set_dimensions() to set the dimensions and area() to calculate the\n",
    "area."
   ]
  },
  {
   "cell_type": "code",
   "execution_count": 16,
   "id": "bc6496ce-cdfa-466d-8812-ac4b8dbf0b72",
   "metadata": {},
   "outputs": [
    {
     "name": "stdout",
     "output_type": "stream",
     "text": [
      "Area of the rectangle: 20\n"
     ]
    }
   ],
   "source": [
    "class Rectangle:\n",
    "    def __init__(self):\n",
    "        self.length = 0\n",
    "        self.width = 0\n",
    "\n",
    "    def set_dimensions(self, length, width):\n",
    "        self.length = length\n",
    "        self.width = width\n",
    "\n",
    "    def area(self):\n",
    "        return self.length * self.width\n",
    "\n",
    "# Create a Rectangle object\n",
    "rect = Rectangle()\n",
    "\n",
    "# Set dimensions\n",
    "rect.set_dimensions(5, 4)\n",
    "\n",
    "# Calculate and display area\n",
    "print(\"Area of the rectangle:\", rect.area())"
   ]
  },
  {
   "cell_type": "code",
   "execution_count": null,
   "id": "affa3047-43c8-4032-ad93-3ea450edca2e",
   "metadata": {},
   "outputs": [],
   "source": [
    "Q14.Create a class Employee with a method calculate_salary() that computes the salary based on hours worked\n",
    "and hourly rate. Create a derived class Manager that adds a bonus to the salary."
   ]
  },
  {
   "cell_type": "code",
   "execution_count": 17,
   "id": "adcdcdef-d471-46a8-a844-42b33f71e852",
   "metadata": {},
   "outputs": [
    {
     "name": "stdout",
     "output_type": "stream",
     "text": [
      "Alice's salary: ₹2000\n",
      "Bob's salary (with bonus): ₹3200\n"
     ]
    }
   ],
   "source": [
    "# Base class\n",
    "class Employee:\n",
    "    def __init__(self, name, hours_worked, hourly_rate):\n",
    "        self.name = name\n",
    "        self.hours_worked = hours_worked\n",
    "        self.hourly_rate = hourly_rate\n",
    "\n",
    "    def calculate_salary(self):\n",
    "        return self.hours_worked * self.hourly_rate\n",
    "\n",
    "# Derived class\n",
    "class Manager(Employee):\n",
    "    def __init__(self, name, hours_worked, hourly_rate, bonus):\n",
    "        super().__init__(name, hours_worked, hourly_rate)\n",
    "        self.bonus = bonus\n",
    "\n",
    "    def calculate_salary(self):\n",
    "        base_salary = super().calculate_salary()\n",
    "        return base_salary + self.bonus\n",
    "\n",
    "# Create objects and test\n",
    "emp = Employee(\"Alice\", 40, 50)\n",
    "mgr = Manager(\"Bob\", 45, 60, 500)\n",
    "\n",
    "print(f\"{emp.name}'s salary: ₹{emp.calculate_salary()}\")\n",
    "print(f\"{mgr.name}'s salary (with bonus): ₹{mgr.calculate_salary()}\")"
   ]
  },
  {
   "cell_type": "code",
   "execution_count": null,
   "id": "9e75a967-e829-4e1c-a75b-8b92542a5f88",
   "metadata": {},
   "outputs": [],
   "source": [
    "Q15. Create a class Product with attributes name, price, and quantity. Implement a method total_price() that\n",
    "calculates the total price of the product."
   ]
  },
  {
   "cell_type": "code",
   "execution_count": 18,
   "id": "37afb95d-f0f3-42ba-811e-5a5f67d5bcda",
   "metadata": {},
   "outputs": [
    {
     "name": "stdout",
     "output_type": "stream",
     "text": [
      "Product: Mobile\n",
      "Unit Price: ₹15000\n",
      "Quantity: 3\n",
      "Total Price: ₹45000\n"
     ]
    }
   ],
   "source": [
    "class Product:\n",
    "    def __init__(self, name, price, quantity):\n",
    "        self.name = name\n",
    "        self.price = price\n",
    "        self.quantity = quantity\n",
    "\n",
    "    def total_price(self):\n",
    "        return self.price * self.quantity\n",
    "\n",
    "# Example usage\n",
    "product1 = Product(\"Mobile\", 15000, 3)\n",
    "\n",
    "print(f\"Product: {product1.name}\")\n",
    "print(f\"Unit Price: ₹{product1.price}\")\n",
    "print(f\"Quantity: {product1.quantity}\")\n",
    "print(f\"Total Price: ₹{product1.total_price()}\")"
   ]
  },
  {
   "cell_type": "code",
   "execution_count": null,
   "id": "7f3ee48c-557b-4d82-a6ba-1dcabd291011",
   "metadata": {},
   "outputs": [],
   "source": [
    "Q16. Create a class Animal with an abstract method sound(). Create two derived classes Cow and Sheep that\n",
    "implement the sound() method."
   ]
  },
  {
   "cell_type": "code",
   "execution_count": 19,
   "id": "4959280d-87f8-4bee-98af-3488b3e9f1ee",
   "metadata": {},
   "outputs": [
    {
     "name": "stdout",
     "output_type": "stream",
     "text": [
      "Cow sound: Moo\n",
      "Sheep sound: Baa\n"
     ]
    }
   ],
   "source": [
    "from abc import ABC, abstractmethod\n",
    "\n",
    "# Abstract base class\n",
    "class Animal(ABC):\n",
    "    @abstractmethod\n",
    "    def sound(self):\n",
    "        pass\n",
    "\n",
    "# Derived class - Cow\n",
    "class Cow(Animal):\n",
    "    def sound(self):\n",
    "        return \"Moo\"\n",
    "\n",
    "# Derived class - Sheep\n",
    "class Sheep(Animal):\n",
    "    def sound(self):\n",
    "        return \"Baa\"\n",
    "\n",
    "# Creating objects\n",
    "cow = Cow()\n",
    "sheep = Sheep()\n",
    "\n",
    "# Calling the sound method\n",
    "print(\"Cow sound:\", cow.sound())\n",
    "print(\"Sheep sound:\", sheep.sound())"
   ]
  },
  {
   "cell_type": "code",
   "execution_count": null,
   "id": "55d81c03-a058-47fb-904a-308fb29e798d",
   "metadata": {},
   "outputs": [],
   "source": [
    "Q17. Create a class Book with attributes title, author, and year_published. Add a method get_book_info() that\n",
    "returns a formatted string with the book's details."
   ]
  },
  {
   "cell_type": "code",
   "execution_count": 20,
   "id": "7722ff8a-854b-4867-ac64-d70562861c05",
   "metadata": {},
   "outputs": [
    {
     "name": "stdout",
     "output_type": "stream",
     "text": [
      "Title: To Kill a Mockingbird, Author: Harper Lee, Year Published: 1960\n"
     ]
    }
   ],
   "source": [
    "class Book:\n",
    "    def __init__(self, title, author, year_published):\n",
    "        self.title = title\n",
    "        self.author = author\n",
    "        self.year_published = year_published\n",
    "\n",
    "    def get_book_info(self):\n",
    "        return f\"Title: {self.title}, Author: {self.author}, Year Published: {self.year_published}\"\n",
    "\n",
    "# Example usage\n",
    "book1 = Book(\"To Kill a Mockingbird\", \"Harper Lee\", 1960)\n",
    "print(book1.get_book_info())"
   ]
  },
  {
   "cell_type": "code",
   "execution_count": null,
   "id": "c6f8eb7d-aa67-432c-a037-61ca1e9c9243",
   "metadata": {},
   "outputs": [],
   "source": [
    "Q18. Create a class House with attributes address and price. Create a derived class Mansion that adds an\n",
    "attribute number_of_rooms."
   ]
  },
  {
   "cell_type": "code",
   "execution_count": 21,
   "id": "ac6c432c-3c23-426f-9bda-a21ea49a0da3",
   "metadata": {},
   "outputs": [
    {
     "name": "stdout",
     "output_type": "stream",
     "text": [
      "Address: 123 Royal Street\n",
      "Price: ₹50000000\n",
      "Number of Rooms: 15\n"
     ]
    }
   ],
   "source": [
    "# Base class\n",
    "class House:\n",
    "    def __init__(self, address, price):\n",
    "        self.address = address\n",
    "        self.price = price\n",
    "\n",
    "    def display_info(self):\n",
    "        print(f\"Address: {self.address}\")\n",
    "        print(f\"Price: ₹{self.price}\")\n",
    "\n",
    "# Derived class\n",
    "class Mansion(House):\n",
    "    def __init__(self, address, price, number_of_rooms):\n",
    "        super().__init__(address, price)\n",
    "        self.number_of_rooms = number_of_rooms\n",
    "\n",
    "    def display_info(self):\n",
    "        super().display_info()\n",
    "        print(f\"Number of Rooms: {self.number_of_rooms}\")\n",
    "\n",
    "# Example usage\n",
    "mansion1 = Mansion(\"123 Royal Street\", 50000000, 15)\n",
    "mansion1.display_info()"
   ]
  },
  {
   "cell_type": "code",
   "execution_count": null,
   "id": "fe2d9101-7ac1-4411-97e1-430cbd16d6f2",
   "metadata": {},
   "outputs": [],
   "source": []
  }
 ],
 "metadata": {
  "kernelspec": {
   "display_name": "Python 3 (ipykernel)",
   "language": "python",
   "name": "python3"
  },
  "language_info": {
   "codemirror_mode": {
    "name": "ipython",
    "version": 3
   },
   "file_extension": ".py",
   "mimetype": "text/x-python",
   "name": "python",
   "nbconvert_exporter": "python",
   "pygments_lexer": "ipython3",
   "version": "3.13.4"
  }
 },
 "nbformat": 4,
 "nbformat_minor": 5
}
